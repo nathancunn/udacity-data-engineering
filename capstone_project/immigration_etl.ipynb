{
 "cells": [
  {
   "cell_type": "markdown",
   "metadata": {
    "editable": true
   },
   "source": [
    "# Project Title\n",
    "### Data Engineering Capstone Project\n",
    "\n",
    "#### Project Summary\n",
    "This project gathers together data on immigration into the US, as well as demographics of the destination cities and the source countries, including mean 21st century temperature.\n",
    "\n",
    "The data are processed using PySpark."
   ]
  },
  {
   "cell_type": "code",
   "execution_count": 1,
   "metadata": {
    "editable": true
   },
   "outputs": [],
   "source": [
    "# Do all imports and installs here\n",
    "import numpy as np\n",
    "import os\n",
    "import pandas as pd\n",
    "import re\n",
    "\n",
    "import pyspark.sql.functions as f\n",
    "\n",
    "from datetime import timedelta\n",
    "from pyspark.sql import SparkSession, Window\n",
    "from pyspark.sql.functions import col, udf\n",
    "from pyspark.sql.types import DateType, IntegerType, StringType, FloatType"
   ]
  },
  {
   "cell_type": "code",
   "execution_count": 2,
   "metadata": {
    "editable": true
   },
   "outputs": [],
   "source": [
    "# Create Spark session\n",
    "spark = SparkSession.builder.\\\n",
    "        config(\"spark.jars.repositories\", \"https://repos.spark-packages.org/\").\\\n",
    "        config(\"spark.jars.packages\", \"saurfang:spark-sas7bdat:2.0.0-s_2.11\").\\\n",
    "        enableHiveSupport().getOrCreate()"
   ]
  },
  {
   "cell_type": "markdown",
   "metadata": {
    "editable": true
   },
   "source": [
    "# Step 1: Import and prepare data\n",
    "First of all, we will read in the data, and perform necessary filters and data transformations"
   ]
  },
  {
   "cell_type": "markdown",
   "metadata": {
    "editable": true
   },
   "source": [
    "## Immigration data\n",
    "These data comes from the US National Tourism and Trade Office and details arriving immigrants to the US in the year 2016\n",
    "These data are available [here](https://travel.trade.gov/research/reports/i94/historical/2016.html)."
   ]
  },
  {
   "cell_type": "code",
   "execution_count": 3,
   "metadata": {
    "editable": true
   },
   "outputs": [],
   "source": [
    "immigration_file = '../../data/18-83510-I94-Data-2016/i94_apr16_sub.sas7bdat'\n",
    "\n",
    "staging_immigration = (spark.\n",
    "                  read.\n",
    "                  format('com.github.saurfang.sas.spark').\n",
    "                  load(immigration_file))"
   ]
  },
  {
   "cell_type": "code",
   "execution_count": 4,
   "metadata": {
    "editable": true
   },
   "outputs": [
    {
     "name": "stdout",
     "output_type": "stream",
     "text": [
      "root\n",
      " |-- cicid: double (nullable = true)\n",
      " |-- i94yr: double (nullable = true)\n",
      " |-- i94mon: double (nullable = true)\n",
      " |-- i94cit: double (nullable = true)\n",
      " |-- i94res: double (nullable = true)\n",
      " |-- i94port: string (nullable = true)\n",
      " |-- arrdate: double (nullable = true)\n",
      " |-- i94mode: double (nullable = true)\n",
      " |-- i94addr: string (nullable = true)\n",
      " |-- depdate: double (nullable = true)\n",
      " |-- i94bir: double (nullable = true)\n",
      " |-- i94visa: double (nullable = true)\n",
      " |-- count: double (nullable = true)\n",
      " |-- dtadfile: string (nullable = true)\n",
      " |-- visapost: string (nullable = true)\n",
      " |-- occup: string (nullable = true)\n",
      " |-- entdepa: string (nullable = true)\n",
      " |-- entdepd: string (nullable = true)\n",
      " |-- entdepu: string (nullable = true)\n",
      " |-- matflag: string (nullable = true)\n",
      " |-- biryear: double (nullable = true)\n",
      " |-- dtaddto: string (nullable = true)\n",
      " |-- gender: string (nullable = true)\n",
      " |-- insnum: string (nullable = true)\n",
      " |-- airline: string (nullable = true)\n",
      " |-- admnum: double (nullable = true)\n",
      " |-- fltno: string (nullable = true)\n",
      " |-- visatype: string (nullable = true)\n",
      "\n"
     ]
    }
   ],
   "source": [
    "staging_immigration.printSchema()"
   ]
  },
  {
   "cell_type": "code",
   "execution_count": 5,
   "metadata": {
    "editable": true
   },
   "outputs": [
    {
     "data": {
      "text/html": [
       "<div>\n",
       "<style scoped>\n",
       "    .dataframe tbody tr th:only-of-type {\n",
       "        vertical-align: middle;\n",
       "    }\n",
       "\n",
       "    .dataframe tbody tr th {\n",
       "        vertical-align: top;\n",
       "    }\n",
       "\n",
       "    .dataframe thead th {\n",
       "        text-align: right;\n",
       "    }\n",
       "</style>\n",
       "<table border=\"1\" class=\"dataframe\">\n",
       "  <thead>\n",
       "    <tr style=\"text-align: right;\">\n",
       "      <th></th>\n",
       "      <th>cicid</th>\n",
       "      <th>i94yr</th>\n",
       "      <th>i94mon</th>\n",
       "      <th>i94cit</th>\n",
       "      <th>i94res</th>\n",
       "      <th>i94port</th>\n",
       "      <th>arrdate</th>\n",
       "      <th>i94mode</th>\n",
       "      <th>i94addr</th>\n",
       "      <th>depdate</th>\n",
       "      <th>...</th>\n",
       "      <th>entdepu</th>\n",
       "      <th>matflag</th>\n",
       "      <th>biryear</th>\n",
       "      <th>dtaddto</th>\n",
       "      <th>gender</th>\n",
       "      <th>insnum</th>\n",
       "      <th>airline</th>\n",
       "      <th>admnum</th>\n",
       "      <th>fltno</th>\n",
       "      <th>visatype</th>\n",
       "    </tr>\n",
       "  </thead>\n",
       "  <tbody>\n",
       "    <tr>\n",
       "      <th>0</th>\n",
       "      <td>6.0</td>\n",
       "      <td>2016.0</td>\n",
       "      <td>4.0</td>\n",
       "      <td>692.0</td>\n",
       "      <td>692.0</td>\n",
       "      <td>XXX</td>\n",
       "      <td>20573.0</td>\n",
       "      <td>NaN</td>\n",
       "      <td>None</td>\n",
       "      <td>NaN</td>\n",
       "      <td>...</td>\n",
       "      <td>U</td>\n",
       "      <td>None</td>\n",
       "      <td>1979.0</td>\n",
       "      <td>10282016</td>\n",
       "      <td>None</td>\n",
       "      <td>None</td>\n",
       "      <td>None</td>\n",
       "      <td>1.897628e+09</td>\n",
       "      <td>None</td>\n",
       "      <td>B2</td>\n",
       "    </tr>\n",
       "    <tr>\n",
       "      <th>1</th>\n",
       "      <td>7.0</td>\n",
       "      <td>2016.0</td>\n",
       "      <td>4.0</td>\n",
       "      <td>254.0</td>\n",
       "      <td>276.0</td>\n",
       "      <td>ATL</td>\n",
       "      <td>20551.0</td>\n",
       "      <td>1.0</td>\n",
       "      <td>AL</td>\n",
       "      <td>NaN</td>\n",
       "      <td>...</td>\n",
       "      <td>Y</td>\n",
       "      <td>None</td>\n",
       "      <td>1991.0</td>\n",
       "      <td>D/S</td>\n",
       "      <td>M</td>\n",
       "      <td>None</td>\n",
       "      <td>None</td>\n",
       "      <td>3.736796e+09</td>\n",
       "      <td>00296</td>\n",
       "      <td>F1</td>\n",
       "    </tr>\n",
       "    <tr>\n",
       "      <th>2</th>\n",
       "      <td>15.0</td>\n",
       "      <td>2016.0</td>\n",
       "      <td>4.0</td>\n",
       "      <td>101.0</td>\n",
       "      <td>101.0</td>\n",
       "      <td>WAS</td>\n",
       "      <td>20545.0</td>\n",
       "      <td>1.0</td>\n",
       "      <td>MI</td>\n",
       "      <td>20691.0</td>\n",
       "      <td>...</td>\n",
       "      <td>None</td>\n",
       "      <td>M</td>\n",
       "      <td>1961.0</td>\n",
       "      <td>09302016</td>\n",
       "      <td>M</td>\n",
       "      <td>None</td>\n",
       "      <td>OS</td>\n",
       "      <td>6.666432e+08</td>\n",
       "      <td>93</td>\n",
       "      <td>B2</td>\n",
       "    </tr>\n",
       "    <tr>\n",
       "      <th>3</th>\n",
       "      <td>16.0</td>\n",
       "      <td>2016.0</td>\n",
       "      <td>4.0</td>\n",
       "      <td>101.0</td>\n",
       "      <td>101.0</td>\n",
       "      <td>NYC</td>\n",
       "      <td>20545.0</td>\n",
       "      <td>1.0</td>\n",
       "      <td>MA</td>\n",
       "      <td>20567.0</td>\n",
       "      <td>...</td>\n",
       "      <td>None</td>\n",
       "      <td>M</td>\n",
       "      <td>1988.0</td>\n",
       "      <td>09302016</td>\n",
       "      <td>None</td>\n",
       "      <td>None</td>\n",
       "      <td>AA</td>\n",
       "      <td>9.246846e+10</td>\n",
       "      <td>00199</td>\n",
       "      <td>B2</td>\n",
       "    </tr>\n",
       "    <tr>\n",
       "      <th>4</th>\n",
       "      <td>17.0</td>\n",
       "      <td>2016.0</td>\n",
       "      <td>4.0</td>\n",
       "      <td>101.0</td>\n",
       "      <td>101.0</td>\n",
       "      <td>NYC</td>\n",
       "      <td>20545.0</td>\n",
       "      <td>1.0</td>\n",
       "      <td>MA</td>\n",
       "      <td>20567.0</td>\n",
       "      <td>...</td>\n",
       "      <td>None</td>\n",
       "      <td>M</td>\n",
       "      <td>2012.0</td>\n",
       "      <td>09302016</td>\n",
       "      <td>None</td>\n",
       "      <td>None</td>\n",
       "      <td>AA</td>\n",
       "      <td>9.246846e+10</td>\n",
       "      <td>00199</td>\n",
       "      <td>B2</td>\n",
       "    </tr>\n",
       "  </tbody>\n",
       "</table>\n",
       "<p>5 rows × 28 columns</p>\n",
       "</div>"
      ],
      "text/plain": [
       "   cicid   i94yr  i94mon  i94cit  i94res i94port  arrdate  i94mode i94addr  \\\n",
       "0    6.0  2016.0     4.0   692.0   692.0     XXX  20573.0      NaN    None   \n",
       "1    7.0  2016.0     4.0   254.0   276.0     ATL  20551.0      1.0      AL   \n",
       "2   15.0  2016.0     4.0   101.0   101.0     WAS  20545.0      1.0      MI   \n",
       "3   16.0  2016.0     4.0   101.0   101.0     NYC  20545.0      1.0      MA   \n",
       "4   17.0  2016.0     4.0   101.0   101.0     NYC  20545.0      1.0      MA   \n",
       "\n",
       "   depdate   ...     entdepu  matflag  biryear   dtaddto gender insnum  \\\n",
       "0      NaN   ...           U     None   1979.0  10282016   None   None   \n",
       "1      NaN   ...           Y     None   1991.0       D/S      M   None   \n",
       "2  20691.0   ...        None        M   1961.0  09302016      M   None   \n",
       "3  20567.0   ...        None        M   1988.0  09302016   None   None   \n",
       "4  20567.0   ...        None        M   2012.0  09302016   None   None   \n",
       "\n",
       "  airline        admnum  fltno visatype  \n",
       "0    None  1.897628e+09   None       B2  \n",
       "1    None  3.736796e+09  00296       F1  \n",
       "2      OS  6.666432e+08     93       B2  \n",
       "3      AA  9.246846e+10  00199       B2  \n",
       "4      AA  9.246846e+10  00199       B2  \n",
       "\n",
       "[5 rows x 28 columns]"
      ]
     },
     "execution_count": 5,
     "metadata": {},
     "output_type": "execute_result"
    }
   ],
   "source": [
    "staging_immigration.limit(5).toPandas()"
   ]
  },
  {
   "cell_type": "markdown",
   "metadata": {
    "editable": true
   },
   "source": [
    "Of all these columns, those that we are interested in are:\n",
    "  - i94cit\n",
    "  - i94res\n",
    "  - arrdate\n",
    "  - depdate\n",
    "  - i94mode\n",
    "  - gender\n",
    "  \n",
    "`i94mode` will be used to filter to select only immigrants arriving by plane."
   ]
  },
  {
   "cell_type": "code",
   "execution_count": 6,
   "metadata": {
    "editable": true
   },
   "outputs": [],
   "source": [
    "staging_immigration = (staging_immigration.\n",
    "                       select(\"cicid\", \"i94yr\", \"i94mon\", \"i94res\",\n",
    "                              \"i94port\", \"i94bir\", \"i94visa\",\n",
    "                              \"gender\",\"arrdate\", \"depdate\", \"i94mode\"))"
   ]
  },
  {
   "cell_type": "markdown",
   "metadata": {
    "editable": true
   },
   "source": [
    "As we are interested in analysing arrival ports, we will drop any missing values"
   ]
  },
  {
   "cell_type": "code",
   "execution_count": 7,
   "metadata": {
    "editable": true
   },
   "outputs": [],
   "source": [
    "staging_immigration = staging_immigration.dropna(subset=[\"i94port\"])"
   ]
  },
  {
   "cell_type": "code",
   "execution_count": 8,
   "metadata": {
    "editable": true
   },
   "outputs": [
    {
     "name": "stdout",
     "output_type": "stream",
     "text": [
      "+-------+-------+\n",
      "|i94mode|  count|\n",
      "+-------+-------+\n",
      "|   null|    239|\n",
      "|    1.0|2994505|\n",
      "|    3.0|  66660|\n",
      "|    2.0|  26349|\n",
      "|    9.0|   8560|\n",
      "+-------+-------+\n",
      "\n"
     ]
    }
   ],
   "source": [
    "staging_immigration.groupBy(\"i94mode\").count().show()"
   ]
  },
  {
   "cell_type": "markdown",
   "metadata": {
    "editable": true
   },
   "source": [
    "The key for these data is available in the file `I94_SAS_Labels_Descriptions.SAS`. \n",
    "We can use regular expressions to extract the key:value pairs"
   ]
  },
  {
   "cell_type": "code",
   "execution_count": 9,
   "metadata": {
    "editable": true
   },
   "outputs": [],
   "source": [
    "with open(\"I94_SAS_Labels_Descriptions.SAS\") as sas_dict:\n",
    "    sas_labels = [re.sub(\"[^a-zA-Z0-9,= ]*|[ {2+}]\", \"\", x).split(\"=\") for x in sas_dict.readlines()]\n",
    "\n",
    "def sas_labels_df(sas_labels_subset):\n",
    "    \"\"\"\n",
    "    This function takes a sub-range of the SAS labels text file and converts to a \n",
    "    dataframe\n",
    "    \"\"\"\n",
    "    return pd.DataFrame(sas_labels_subset, columns = [\"code\", \"key\"]).set_index(\"code\")"
   ]
  },
  {
   "cell_type": "code",
   "execution_count": 10,
   "metadata": {
    "editable": true
   },
   "outputs": [
    {
     "data": {
      "text/html": [
       "<div>\n",
       "<style scoped>\n",
       "    .dataframe tbody tr th:only-of-type {\n",
       "        vertical-align: middle;\n",
       "    }\n",
       "\n",
       "    .dataframe tbody tr th {\n",
       "        vertical-align: top;\n",
       "    }\n",
       "\n",
       "    .dataframe thead th {\n",
       "        text-align: right;\n",
       "    }\n",
       "</style>\n",
       "<table border=\"1\" class=\"dataframe\">\n",
       "  <thead>\n",
       "    <tr style=\"text-align: right;\">\n",
       "      <th></th>\n",
       "      <th>key</th>\n",
       "    </tr>\n",
       "    <tr>\n",
       "      <th>code</th>\n",
       "      <th></th>\n",
       "    </tr>\n",
       "  </thead>\n",
       "  <tbody>\n",
       "    <tr>\n",
       "      <th>1</th>\n",
       "      <td>Air</td>\n",
       "    </tr>\n",
       "    <tr>\n",
       "      <th>2</th>\n",
       "      <td>Sea</td>\n",
       "    </tr>\n",
       "    <tr>\n",
       "      <th>3</th>\n",
       "      <td>Land</td>\n",
       "    </tr>\n",
       "    <tr>\n",
       "      <th>9</th>\n",
       "      <td>Not reported</td>\n",
       "    </tr>\n",
       "  </tbody>\n",
       "</table>\n",
       "</div>"
      ],
      "text/plain": [
       "                 key\n",
       "code                \n",
       "1                Air\n",
       "2                Sea\n",
       "3               Land\n",
       "9      Not reported "
      ]
     },
     "execution_count": 10,
     "metadata": {},
     "output_type": "execute_result"
    }
   ],
   "source": [
    "mode_codes = sas_labels_df(sas_labels[972:976])\n",
    "mode_codes"
   ]
  },
  {
   "cell_type": "markdown",
   "metadata": {
    "editable": true
   },
   "source": [
    "Therefore, we will filter the immigration data where `i94mode == 1`"
   ]
  },
  {
   "cell_type": "code",
   "execution_count": 11,
   "metadata": {
    "editable": true
   },
   "outputs": [],
   "source": [
    "staging_immigration = (staging_immigration.\n",
    "                       filter(\"i94mode == 1\"))"
   ]
  },
  {
   "cell_type": "markdown",
   "metadata": {
    "editable": true
   },
   "source": [
    "This filter is evaluated lazily, so is only performed once necessary.\n",
    "\n",
    "Next we need to convert the date columns `arrdate` and `depdate` into a usable format.\n",
    "SAS stores dates as days since 1/1/1960 which we will need to convert first. We use a \n",
    "user-defined function, 'udf', to allow this function to be applied directly on the Spark \n",
    "dataframe."
   ]
  },
  {
   "cell_type": "code",
   "execution_count": 12,
   "metadata": {
    "editable": true
   },
   "outputs": [],
   "source": [
    "def sas_date_to_timestamp(x):\n",
    "    \"\"\"\n",
    "    Converts a value x in SAS date format to \n",
    "    a standard Python date\n",
    "    SAS date formats are integers recorded in \n",
    "    days since January 1st 1960\n",
    "    \"\"\"\n",
    "    if x is None:\n",
    "        return None\n",
    "    origin_ts = pd.Timestamp(\"1960-01-01\")\n",
    "    return origin_ts + timedelta(x)\n",
    "\n",
    "udf_sas_date_to_timestamp = udf(sas_date_to_timestamp, DateType())"
   ]
  },
  {
   "cell_type": "code",
   "execution_count": 13,
   "metadata": {
    "editable": true
   },
   "outputs": [],
   "source": [
    "staging_immigration = (staging_immigration.\n",
    "                       withColumn(\"arrival_date\", udf_sas_date_to_timestamp(f.col(\"arrdate\"))).\n",
    "                       withColumn(\"departure_date\", udf_sas_date_to_timestamp(f.col(\"depdate\")))\n",
    "                       )"
   ]
  },
  {
   "cell_type": "code",
   "execution_count": 14,
   "metadata": {
    "editable": true
   },
   "outputs": [],
   "source": [
    "# Want to remove cases where immigrant left before they arrived\n",
    "staging_immigration = (staging_immigration.\n",
    "                       filter(\"arrdate < depdate\")\n",
    "                       )"
   ]
  },
  {
   "cell_type": "code",
   "execution_count": 15,
   "metadata": {
    "editable": true
   },
   "outputs": [
    {
     "name": "stdout",
     "output_type": "stream",
     "text": [
      "+-----+------+------+------+-------+------+-------+------+-------+-------+-------+------------+--------------+\n",
      "|cicid| i94yr|i94mon|i94res|i94port|i94bir|i94visa|gender|arrdate|depdate|i94mode|arrival_date|departure_date|\n",
      "+-----+------+------+------+-------+------+-------+------+-------+-------+-------+------------+--------------+\n",
      "| 15.0|2016.0|   4.0| 101.0|    WAS|  55.0|    2.0|     M|20545.0|20691.0|    1.0|  2016-04-01|    2016-08-25|\n",
      "| 16.0|2016.0|   4.0| 101.0|    NYC|  28.0|    2.0|  null|20545.0|20567.0|    1.0|  2016-04-01|    2016-04-23|\n",
      "| 17.0|2016.0|   4.0| 101.0|    NYC|   4.0|    2.0|  null|20545.0|20567.0|    1.0|  2016-04-01|    2016-04-23|\n",
      "| 18.0|2016.0|   4.0| 101.0|    NYC|  57.0|    1.0|  null|20545.0|20555.0|    1.0|  2016-04-01|    2016-04-11|\n",
      "| 19.0|2016.0|   4.0| 101.0|    NYC|  63.0|    2.0|  null|20545.0|20558.0|    1.0|  2016-04-01|    2016-04-14|\n",
      "+-----+------+------+------+-------+------+-------+------+-------+-------+-------+------------+--------------+\n",
      "only showing top 5 rows\n",
      "\n"
     ]
    }
   ],
   "source": [
    "staging_immigration.show(n = 5)"
   ]
  },
  {
   "cell_type": "markdown",
   "metadata": {
    "editable": true
   },
   "source": [
    "Next, to add context to the source of the immigrants, we decode the `i94res` variable"
   ]
  },
  {
   "cell_type": "code",
   "execution_count": 16,
   "metadata": {
    "editable": true
   },
   "outputs": [],
   "source": [
    "country_codes = sas_labels_df(sas_labels[9:298])\n",
    "# Remove some invalid codes\n",
    "country_codes = country_codes[~country_codes.key.str.contains(\"INVALID|No Country|should not show\")]\n",
    "# Convert to title case to conform with other datasets\n",
    "country_codes.key = country_codes.key.str.title()\n",
    "# Remove unnecessary space\n",
    "country_codes.key = country_codes.key.str.strip()\n",
    "country_codes.reset_index(inplace = True)\n",
    "# Convert country code to integer\n",
    "country_codes.code = country_codes.code.astype('int')\n",
    "country_codes.set_index(\"code\", inplace = True)"
   ]
  },
  {
   "cell_type": "code",
   "execution_count": 17,
   "metadata": {
    "editable": true
   },
   "outputs": [],
   "source": [
    "valid_country_codes = list(country_codes.index)"
   ]
  },
  {
   "cell_type": "code",
   "execution_count": 18,
   "metadata": {
    "editable": true
   },
   "outputs": [],
   "source": [
    "staging_immigration = (staging_immigration.\n",
    "                  filter(staging_immigration.i94res.isin(valid_country_codes))\n",
    "                 )"
   ]
  },
  {
   "cell_type": "markdown",
   "metadata": {
    "editable": true
   },
   "source": [
    "## Temperature data\n",
    "We will use the temperature data to give context on the cities in which immigrants are arriving as well as the countries they are coming from"
   ]
  },
  {
   "cell_type": "code",
   "execution_count": 19,
   "metadata": {
    "editable": true
   },
   "outputs": [],
   "source": [
    "temp_file = '../../data2/GlobalLandTemperaturesByCity.csv'\n",
    "\n",
    "staging_temp = (spark.\n",
    "               read.\n",
    "               option(\"header\", True).\n",
    "               option(\"inferSchema\", True).\n",
    "               csv(temp_file))"
   ]
  },
  {
   "cell_type": "code",
   "execution_count": 20,
   "metadata": {
    "editable": true
   },
   "outputs": [
    {
     "name": "stdout",
     "output_type": "stream",
     "text": [
      "root\n",
      " |-- dt: timestamp (nullable = true)\n",
      " |-- AverageTemperature: double (nullable = true)\n",
      " |-- AverageTemperatureUncertainty: double (nullable = true)\n",
      " |-- City: string (nullable = true)\n",
      " |-- Country: string (nullable = true)\n",
      " |-- Latitude: string (nullable = true)\n",
      " |-- Longitude: string (nullable = true)\n",
      "\n"
     ]
    }
   ],
   "source": [
    "staging_temp.printSchema()"
   ]
  },
  {
   "cell_type": "code",
   "execution_count": 21,
   "metadata": {
    "editable": true
   },
   "outputs": [
    {
     "data": {
      "text/plain": [
       "[Row(max(dt)=datetime.datetime(2013, 9, 1, 0, 0))]"
      ]
     },
     "execution_count": 21,
     "metadata": {},
     "output_type": "execute_result"
    }
   ],
   "source": [
    "staging_temp.createOrReplaceTempView(\"temperature\")\n",
    "\n",
    "spark.sql(\"\"\"\n",
    "    SELECT MAX(dt)\n",
    "    FROM temperature\n",
    "\"\"\").collect()"
   ]
  },
  {
   "cell_type": "markdown",
   "metadata": {
    "editable": true
   },
   "source": [
    "As the temperature data only go as far as 2013, while the immigration data relate to 2016, we will take an average temperature value of the 21st century for each City.\n",
    "We will also filter to only include countries with a valid country code. We are interested in the mean temperatures for cities in the US and countries elsewhere "
   ]
  },
  {
   "cell_type": "code",
   "execution_count": 22,
   "metadata": {
    "editable": true
   },
   "outputs": [],
   "source": [
    "valid_countries = list(country_codes.key.str.strip())\n",
    "country_temp = (staging_temp.\n",
    "           filter(\"dt >= '2000/01/01'\").\n",
    "           filter(staging_temp.Country.isin(valid_countries)).\n",
    "           groupBy(\"Country\").\n",
    "           agg(f.mean(\"AverageTemperature\").alias(\"mean_temperature\")))\n",
    "us_city_temp = (staging_temp.\n",
    "           filter(\"dt >= '2000/01/01'\").\n",
    "           filter(\"Country == 'United States'\").\n",
    "           groupBy(\"City\").\n",
    "           agg(f.mean(\"AverageTemperature\").alias(\"mean_temperature\")))"
   ]
  },
  {
   "cell_type": "code",
   "execution_count": 23,
   "metadata": {
    "editable": true
   },
   "outputs": [
    {
     "data": {
      "text/html": [
       "<div>\n",
       "<style scoped>\n",
       "    .dataframe tbody tr th:only-of-type {\n",
       "        vertical-align: middle;\n",
       "    }\n",
       "\n",
       "    .dataframe tbody tr th {\n",
       "        vertical-align: top;\n",
       "    }\n",
       "\n",
       "    .dataframe thead th {\n",
       "        text-align: right;\n",
       "    }\n",
       "</style>\n",
       "<table border=\"1\" class=\"dataframe\">\n",
       "  <thead>\n",
       "    <tr style=\"text-align: right;\">\n",
       "      <th></th>\n",
       "      <th>City</th>\n",
       "      <th>mean_temperature</th>\n",
       "    </tr>\n",
       "  </thead>\n",
       "  <tbody>\n",
       "    <tr>\n",
       "      <th>0</th>\n",
       "      <td>Worcester</td>\n",
       "      <td>8.890026</td>\n",
       "    </tr>\n",
       "    <tr>\n",
       "      <th>1</th>\n",
       "      <td>Charleston</td>\n",
       "      <td>19.567150</td>\n",
       "    </tr>\n",
       "    <tr>\n",
       "      <th>2</th>\n",
       "      <td>Corona</td>\n",
       "      <td>16.817961</td>\n",
       "    </tr>\n",
       "    <tr>\n",
       "      <th>3</th>\n",
       "      <td>Springfield</td>\n",
       "      <td>12.003608</td>\n",
       "    </tr>\n",
       "    <tr>\n",
       "      <th>4</th>\n",
       "      <td>Tempe</td>\n",
       "      <td>21.974248</td>\n",
       "    </tr>\n",
       "    <tr>\n",
       "      <th>5</th>\n",
       "      <td>North Las Vegas</td>\n",
       "      <td>18.297157</td>\n",
       "    </tr>\n",
       "    <tr>\n",
       "      <th>6</th>\n",
       "      <td>Thornton</td>\n",
       "      <td>9.813471</td>\n",
       "    </tr>\n",
       "    <tr>\n",
       "      <th>7</th>\n",
       "      <td>Phoenix</td>\n",
       "      <td>21.974248</td>\n",
       "    </tr>\n",
       "    <tr>\n",
       "      <th>8</th>\n",
       "      <td>Hollywood</td>\n",
       "      <td>23.840542</td>\n",
       "    </tr>\n",
       "    <tr>\n",
       "      <th>9</th>\n",
       "      <td>Pembroke Pines</td>\n",
       "      <td>23.840542</td>\n",
       "    </tr>\n",
       "  </tbody>\n",
       "</table>\n",
       "</div>"
      ],
      "text/plain": [
       "              City  mean_temperature\n",
       "0        Worcester          8.890026\n",
       "1       Charleston         19.567150\n",
       "2           Corona         16.817961\n",
       "3      Springfield         12.003608\n",
       "4            Tempe         21.974248\n",
       "5  North Las Vegas         18.297157\n",
       "6         Thornton          9.813471\n",
       "7          Phoenix         21.974248\n",
       "8        Hollywood         23.840542\n",
       "9   Pembroke Pines         23.840542"
      ]
     },
     "execution_count": 23,
     "metadata": {},
     "output_type": "execute_result"
    }
   ],
   "source": [
    "us_city_temp.limit(10).toPandas()"
   ]
  },
  {
   "cell_type": "code",
   "execution_count": 24,
   "metadata": {
    "editable": true
   },
   "outputs": [
    {
     "data": {
      "text/html": [
       "<div>\n",
       "<style scoped>\n",
       "    .dataframe tbody tr th:only-of-type {\n",
       "        vertical-align: middle;\n",
       "    }\n",
       "\n",
       "    .dataframe tbody tr th {\n",
       "        vertical-align: top;\n",
       "    }\n",
       "\n",
       "    .dataframe thead th {\n",
       "        text-align: right;\n",
       "    }\n",
       "</style>\n",
       "<table border=\"1\" class=\"dataframe\">\n",
       "  <thead>\n",
       "    <tr style=\"text-align: right;\">\n",
       "      <th></th>\n",
       "      <th>Country</th>\n",
       "      <th>mean_temperature</th>\n",
       "    </tr>\n",
       "  </thead>\n",
       "  <tbody>\n",
       "    <tr>\n",
       "      <th>0</th>\n",
       "      <td>Chad</td>\n",
       "      <td>28.036576</td>\n",
       "    </tr>\n",
       "    <tr>\n",
       "      <th>1</th>\n",
       "      <td>Russia</td>\n",
       "      <td>4.733811</td>\n",
       "    </tr>\n",
       "    <tr>\n",
       "      <th>2</th>\n",
       "      <td>Paraguay</td>\n",
       "      <td>23.626738</td>\n",
       "    </tr>\n",
       "    <tr>\n",
       "      <th>3</th>\n",
       "      <td>Yemen</td>\n",
       "      <td>26.730773</td>\n",
       "    </tr>\n",
       "    <tr>\n",
       "      <th>4</th>\n",
       "      <td>Senegal</td>\n",
       "      <td>26.820206</td>\n",
       "    </tr>\n",
       "    <tr>\n",
       "      <th>5</th>\n",
       "      <td>Sweden</td>\n",
       "      <td>6.881589</td>\n",
       "    </tr>\n",
       "    <tr>\n",
       "      <th>6</th>\n",
       "      <td>Guyana</td>\n",
       "      <td>27.464941</td>\n",
       "    </tr>\n",
       "    <tr>\n",
       "      <th>7</th>\n",
       "      <td>Burma</td>\n",
       "      <td>26.777330</td>\n",
       "    </tr>\n",
       "    <tr>\n",
       "      <th>8</th>\n",
       "      <td>Philippines</td>\n",
       "      <td>27.188468</td>\n",
       "    </tr>\n",
       "    <tr>\n",
       "      <th>9</th>\n",
       "      <td>Eritrea</td>\n",
       "      <td>24.945757</td>\n",
       "    </tr>\n",
       "  </tbody>\n",
       "</table>\n",
       "</div>"
      ],
      "text/plain": [
       "       Country  mean_temperature\n",
       "0         Chad         28.036576\n",
       "1       Russia          4.733811\n",
       "2     Paraguay         23.626738\n",
       "3        Yemen         26.730773\n",
       "4      Senegal         26.820206\n",
       "5       Sweden          6.881589\n",
       "6       Guyana         27.464941\n",
       "7        Burma         26.777330\n",
       "8  Philippines         27.188468\n",
       "9      Eritrea         24.945757"
      ]
     },
     "execution_count": 24,
     "metadata": {},
     "output_type": "execute_result"
    }
   ],
   "source": [
    "country_temp.limit(10).toPandas()"
   ]
  },
  {
   "cell_type": "markdown",
   "metadata": {
    "editable": true
   },
   "source": [
    "We can look at summaries of the mean_temperature value to ensure we have reasonable results"
   ]
  },
  {
   "cell_type": "code",
   "execution_count": 25,
   "metadata": {
    "editable": true
   },
   "outputs": [
    {
     "data": {
      "text/plain": [
       "[Row(summary='count', mean_temperature='248'),\n",
       " Row(summary='mean', mean_temperature='15.221801703098478'),\n",
       " Row(summary='stddev', mean_temperature='4.437567673987982'),\n",
       " Row(summary='min', mean_temperature='-1.0546776315789472'),\n",
       " Row(summary='max', mean_temperature='23.84054248366012')]"
      ]
     },
     "execution_count": 25,
     "metadata": {},
     "output_type": "execute_result"
    }
   ],
   "source": [
    "us_city_temp.describe(\"mean_temperature\").collect()"
   ]
  },
  {
   "cell_type": "code",
   "execution_count": 26,
   "metadata": {
    "editable": true
   },
   "outputs": [
    {
     "data": {
      "text/plain": [
       "[Row(summary='count', mean_temperature='149'),\n",
       " Row(summary='mean', mean_temperature='19.398531163156033'),\n",
       " Row(summary='stddev', mean_temperature='7.5070008952120535'),\n",
       " Row(summary='min', mean_temperature='-1.8284473684210532'),\n",
       " Row(summary='max', mean_temperature='30.102092105263154')]"
      ]
     },
     "execution_count": 26,
     "metadata": {},
     "output_type": "execute_result"
    }
   ],
   "source": [
    "country_temp.describe(\"mean_temperature\").collect()"
   ]
  },
  {
   "cell_type": "markdown",
   "metadata": {
    "editable": true
   },
   "source": [
    "## Demographics data\n",
    "Next, read in the demographics data which outlines the demographics for each US city "
   ]
  },
  {
   "cell_type": "code",
   "execution_count": 27,
   "metadata": {
    "editable": true
   },
   "outputs": [],
   "source": [
    "staging_demo = (spark.\n",
    "           read.\n",
    "           option(\"delimiter\", ';').\n",
    "           option(\"header\", True).\n",
    "           option(\"inferSchema\", True).\n",
    "           csv(\"us-cities-demographics.csv\"))"
   ]
  },
  {
   "cell_type": "markdown",
   "metadata": {
    "editable": true
   },
   "source": [
    "As can be seen below, the data storage could be improved by gathering the race data into columns to avoid duplication of the other data"
   ]
  },
  {
   "cell_type": "code",
   "execution_count": 28,
   "metadata": {
    "editable": true
   },
   "outputs": [
    {
     "data": {
      "text/html": [
       "<div>\n",
       "<style scoped>\n",
       "    .dataframe tbody tr th:only-of-type {\n",
       "        vertical-align: middle;\n",
       "    }\n",
       "\n",
       "    .dataframe tbody tr th {\n",
       "        vertical-align: top;\n",
       "    }\n",
       "\n",
       "    .dataframe thead th {\n",
       "        text-align: right;\n",
       "    }\n",
       "</style>\n",
       "<table border=\"1\" class=\"dataframe\">\n",
       "  <thead>\n",
       "    <tr style=\"text-align: right;\">\n",
       "      <th></th>\n",
       "      <th>City</th>\n",
       "      <th>State</th>\n",
       "      <th>Median Age</th>\n",
       "      <th>Male Population</th>\n",
       "      <th>Female Population</th>\n",
       "      <th>Total Population</th>\n",
       "      <th>Number of Veterans</th>\n",
       "      <th>Foreign-born</th>\n",
       "      <th>Average Household Size</th>\n",
       "      <th>State Code</th>\n",
       "      <th>Race</th>\n",
       "      <th>Count</th>\n",
       "    </tr>\n",
       "  </thead>\n",
       "  <tbody>\n",
       "    <tr>\n",
       "      <th>0</th>\n",
       "      <td>Silver Spring</td>\n",
       "      <td>Maryland</td>\n",
       "      <td>33.8</td>\n",
       "      <td>40601</td>\n",
       "      <td>41862</td>\n",
       "      <td>82463</td>\n",
       "      <td>1562</td>\n",
       "      <td>30908</td>\n",
       "      <td>2.6</td>\n",
       "      <td>MD</td>\n",
       "      <td>Hispanic or Latino</td>\n",
       "      <td>25924</td>\n",
       "    </tr>\n",
       "    <tr>\n",
       "      <th>1</th>\n",
       "      <td>Silver Spring</td>\n",
       "      <td>Maryland</td>\n",
       "      <td>33.8</td>\n",
       "      <td>40601</td>\n",
       "      <td>41862</td>\n",
       "      <td>82463</td>\n",
       "      <td>1562</td>\n",
       "      <td>30908</td>\n",
       "      <td>2.6</td>\n",
       "      <td>MD</td>\n",
       "      <td>White</td>\n",
       "      <td>37756</td>\n",
       "    </tr>\n",
       "    <tr>\n",
       "      <th>2</th>\n",
       "      <td>Silver Spring</td>\n",
       "      <td>Maryland</td>\n",
       "      <td>33.8</td>\n",
       "      <td>40601</td>\n",
       "      <td>41862</td>\n",
       "      <td>82463</td>\n",
       "      <td>1562</td>\n",
       "      <td>30908</td>\n",
       "      <td>2.6</td>\n",
       "      <td>MD</td>\n",
       "      <td>Black or African-American</td>\n",
       "      <td>21330</td>\n",
       "    </tr>\n",
       "    <tr>\n",
       "      <th>3</th>\n",
       "      <td>Silver Spring</td>\n",
       "      <td>Maryland</td>\n",
       "      <td>33.8</td>\n",
       "      <td>40601</td>\n",
       "      <td>41862</td>\n",
       "      <td>82463</td>\n",
       "      <td>1562</td>\n",
       "      <td>30908</td>\n",
       "      <td>2.6</td>\n",
       "      <td>MD</td>\n",
       "      <td>American Indian and Alaska Native</td>\n",
       "      <td>1084</td>\n",
       "    </tr>\n",
       "    <tr>\n",
       "      <th>4</th>\n",
       "      <td>Silver Spring</td>\n",
       "      <td>Maryland</td>\n",
       "      <td>33.8</td>\n",
       "      <td>40601</td>\n",
       "      <td>41862</td>\n",
       "      <td>82463</td>\n",
       "      <td>1562</td>\n",
       "      <td>30908</td>\n",
       "      <td>2.6</td>\n",
       "      <td>MD</td>\n",
       "      <td>Asian</td>\n",
       "      <td>8841</td>\n",
       "    </tr>\n",
       "  </tbody>\n",
       "</table>\n",
       "</div>"
      ],
      "text/plain": [
       "            City     State  Median Age  Male Population  Female Population  \\\n",
       "0  Silver Spring  Maryland        33.8            40601              41862   \n",
       "1  Silver Spring  Maryland        33.8            40601              41862   \n",
       "2  Silver Spring  Maryland        33.8            40601              41862   \n",
       "3  Silver Spring  Maryland        33.8            40601              41862   \n",
       "4  Silver Spring  Maryland        33.8            40601              41862   \n",
       "\n",
       "   Total Population  Number of Veterans  Foreign-born  Average Household Size  \\\n",
       "0             82463                1562         30908                     2.6   \n",
       "1             82463                1562         30908                     2.6   \n",
       "2             82463                1562         30908                     2.6   \n",
       "3             82463                1562         30908                     2.6   \n",
       "4             82463                1562         30908                     2.6   \n",
       "\n",
       "  State Code                               Race  Count  \n",
       "0         MD                 Hispanic or Latino  25924  \n",
       "1         MD                              White  37756  \n",
       "2         MD          Black or African-American  21330  \n",
       "3         MD  American Indian and Alaska Native   1084  \n",
       "4         MD                              Asian   8841  "
      ]
     },
     "execution_count": 28,
     "metadata": {},
     "output_type": "execute_result"
    }
   ],
   "source": [
    "staging_demo.filter(\"City == 'Silver Spring'\").toPandas()"
   ]
  },
  {
   "cell_type": "code",
   "execution_count": 29,
   "metadata": {
    "editable": true
   },
   "outputs": [],
   "source": [
    "staging_demo_race_pivot = (staging_demo.\n",
    "                           groupBy(\"City\", \"State\").\n",
    "                           pivot(\"Race\").\n",
    "                           agg(f.first(\"Count\")))\n",
    "staging_demo = (staging_demo.\n",
    "                groupBy(\"City\", \"State\").\n",
    "                agg(f.first(\"Median Age\").alias(\"median_age\"),\n",
    "                    f.first(\"Male Population\").alias(\"male_population\"),\n",
    "                    f.first(\"Female Population\").alias(\"female_population\"),\n",
    "                    f.first(\"Total Population\").alias(\"total_population\"),\n",
    "                    f.first(\"Average Household Size\").alias(\"mean_household_size\"),\n",
    "                    f.first(\"State Code\").alias(\"state_code\")\n",
    "                   )\n",
    "               ).join(staging_demo_race_pivot, on = [\"City\", \"State\"])"
   ]
  },
  {
   "cell_type": "code",
   "execution_count": 30,
   "metadata": {
    "editable": true
   },
   "outputs": [],
   "source": [
    "# Add the average temperature for US cities\n",
    "staging_demo = staging_demo.join(us_city_temp, on = [\"City\"])"
   ]
  },
  {
   "cell_type": "markdown",
   "metadata": {
    "editable": true
   },
   "source": [
    "Finally, we'll add a row number which creates a unique code for each city"
   ]
  },
  {
   "cell_type": "code",
   "execution_count": 31,
   "metadata": {
    "editable": true
   },
   "outputs": [],
   "source": [
    "window = Window.orderBy(f.col('City'), f.col('state_code'))\n",
    "staging_demo = staging_demo.withColumn('city_code', f.row_number().over(window))"
   ]
  },
  {
   "cell_type": "code",
   "execution_count": 32,
   "metadata": {
    "editable": true
   },
   "outputs": [
    {
     "data": {
      "text/html": [
       "<div>\n",
       "<style scoped>\n",
       "    .dataframe tbody tr th:only-of-type {\n",
       "        vertical-align: middle;\n",
       "    }\n",
       "\n",
       "    .dataframe tbody tr th {\n",
       "        vertical-align: top;\n",
       "    }\n",
       "\n",
       "    .dataframe thead th {\n",
       "        text-align: right;\n",
       "    }\n",
       "</style>\n",
       "<table border=\"1\" class=\"dataframe\">\n",
       "  <thead>\n",
       "    <tr style=\"text-align: right;\">\n",
       "      <th></th>\n",
       "      <th>City</th>\n",
       "      <th>State</th>\n",
       "      <th>median_age</th>\n",
       "      <th>male_population</th>\n",
       "      <th>female_population</th>\n",
       "      <th>total_population</th>\n",
       "      <th>mean_household_size</th>\n",
       "      <th>state_code</th>\n",
       "      <th>American Indian and Alaska Native</th>\n",
       "      <th>Asian</th>\n",
       "      <th>Black or African-American</th>\n",
       "      <th>Hispanic or Latino</th>\n",
       "      <th>White</th>\n",
       "      <th>mean_temperature</th>\n",
       "      <th>city_code</th>\n",
       "    </tr>\n",
       "  </thead>\n",
       "  <tbody>\n",
       "    <tr>\n",
       "      <th>0</th>\n",
       "      <td>Abilene</td>\n",
       "      <td>Texas</td>\n",
       "      <td>31.3</td>\n",
       "      <td>65212</td>\n",
       "      <td>60664</td>\n",
       "      <td>125876</td>\n",
       "      <td>2.64</td>\n",
       "      <td>TX</td>\n",
       "      <td>1813</td>\n",
       "      <td>2929</td>\n",
       "      <td>14449</td>\n",
       "      <td>33222</td>\n",
       "      <td>95487</td>\n",
       "      <td>17.826222</td>\n",
       "      <td>1</td>\n",
       "    </tr>\n",
       "    <tr>\n",
       "      <th>1</th>\n",
       "      <td>Akron</td>\n",
       "      <td>Ohio</td>\n",
       "      <td>38.1</td>\n",
       "      <td>96886</td>\n",
       "      <td>100667</td>\n",
       "      <td>197553</td>\n",
       "      <td>2.24</td>\n",
       "      <td>OH</td>\n",
       "      <td>1845</td>\n",
       "      <td>9033</td>\n",
       "      <td>66551</td>\n",
       "      <td>3684</td>\n",
       "      <td>129192</td>\n",
       "      <td>10.857634</td>\n",
       "      <td>2</td>\n",
       "    </tr>\n",
       "    <tr>\n",
       "      <th>2</th>\n",
       "      <td>Albuquerque</td>\n",
       "      <td>New Mexico</td>\n",
       "      <td>36.0</td>\n",
       "      <td>273323</td>\n",
       "      <td>285808</td>\n",
       "      <td>559131</td>\n",
       "      <td>2.49</td>\n",
       "      <td>NM</td>\n",
       "      <td>32243</td>\n",
       "      <td>25140</td>\n",
       "      <td>26774</td>\n",
       "      <td>271854</td>\n",
       "      <td>411847</td>\n",
       "      <td>12.027353</td>\n",
       "      <td>3</td>\n",
       "    </tr>\n",
       "    <tr>\n",
       "      <th>3</th>\n",
       "      <td>Alexandria</td>\n",
       "      <td>Virginia</td>\n",
       "      <td>36.6</td>\n",
       "      <td>74989</td>\n",
       "      <td>78522</td>\n",
       "      <td>153511</td>\n",
       "      <td>2.20</td>\n",
       "      <td>VA</td>\n",
       "      <td>1133</td>\n",
       "      <td>13315</td>\n",
       "      <td>37168</td>\n",
       "      <td>25573</td>\n",
       "      <td>106215</td>\n",
       "      <td>13.139941</td>\n",
       "      <td>4</td>\n",
       "    </tr>\n",
       "    <tr>\n",
       "      <th>4</th>\n",
       "      <td>Amarillo</td>\n",
       "      <td>Texas</td>\n",
       "      <td>33.8</td>\n",
       "      <td>99391</td>\n",
       "      <td>100260</td>\n",
       "      <td>199651</td>\n",
       "      <td>2.64</td>\n",
       "      <td>TX</td>\n",
       "      <td>4260</td>\n",
       "      <td>8563</td>\n",
       "      <td>14050</td>\n",
       "      <td>65392</td>\n",
       "      <td>174214</td>\n",
       "      <td>16.009490</td>\n",
       "      <td>5</td>\n",
       "    </tr>\n",
       "    <tr>\n",
       "      <th>5</th>\n",
       "      <td>Anaheim</td>\n",
       "      <td>California</td>\n",
       "      <td>33.6</td>\n",
       "      <td>179603</td>\n",
       "      <td>171135</td>\n",
       "      <td>350738</td>\n",
       "      <td>3.45</td>\n",
       "      <td>CA</td>\n",
       "      <td>2489</td>\n",
       "      <td>53270</td>\n",
       "      <td>9775</td>\n",
       "      <td>201593</td>\n",
       "      <td>259820</td>\n",
       "      <td>16.817961</td>\n",
       "      <td>6</td>\n",
       "    </tr>\n",
       "    <tr>\n",
       "      <th>6</th>\n",
       "      <td>Anchorage</td>\n",
       "      <td>Alaska</td>\n",
       "      <td>32.2</td>\n",
       "      <td>152945</td>\n",
       "      <td>145750</td>\n",
       "      <td>298695</td>\n",
       "      <td>2.77</td>\n",
       "      <td>AK</td>\n",
       "      <td>36339</td>\n",
       "      <td>36825</td>\n",
       "      <td>23107</td>\n",
       "      <td>27261</td>\n",
       "      <td>212696</td>\n",
       "      <td>-1.054678</td>\n",
       "      <td>7</td>\n",
       "    </tr>\n",
       "    <tr>\n",
       "      <th>7</th>\n",
       "      <td>Ann Arbor</td>\n",
       "      <td>Michigan</td>\n",
       "      <td>28.1</td>\n",
       "      <td>58789</td>\n",
       "      <td>58281</td>\n",
       "      <td>117070</td>\n",
       "      <td>2.17</td>\n",
       "      <td>MI</td>\n",
       "      <td>1935</td>\n",
       "      <td>18797</td>\n",
       "      <td>9577</td>\n",
       "      <td>5888</td>\n",
       "      <td>90173</td>\n",
       "      <td>9.851516</td>\n",
       "      <td>8</td>\n",
       "    </tr>\n",
       "    <tr>\n",
       "      <th>8</th>\n",
       "      <td>Antioch</td>\n",
       "      <td>California</td>\n",
       "      <td>34.0</td>\n",
       "      <td>54733</td>\n",
       "      <td>55809</td>\n",
       "      <td>110542</td>\n",
       "      <td>3.31</td>\n",
       "      <td>CA</td>\n",
       "      <td>3462</td>\n",
       "      <td>14333</td>\n",
       "      <td>23227</td>\n",
       "      <td>35563</td>\n",
       "      <td>51151</td>\n",
       "      <td>15.108948</td>\n",
       "      <td>9</td>\n",
       "    </tr>\n",
       "    <tr>\n",
       "      <th>9</th>\n",
       "      <td>Arlington</td>\n",
       "      <td>Texas</td>\n",
       "      <td>32.6</td>\n",
       "      <td>191060</td>\n",
       "      <td>197062</td>\n",
       "      <td>388122</td>\n",
       "      <td>2.89</td>\n",
       "      <td>TX</td>\n",
       "      <td>2918</td>\n",
       "      <td>31804</td>\n",
       "      <td>92955</td>\n",
       "      <td>112078</td>\n",
       "      <td>251155</td>\n",
       "      <td>16.057190</td>\n",
       "      <td>10</td>\n",
       "    </tr>\n",
       "  </tbody>\n",
       "</table>\n",
       "</div>"
      ],
      "text/plain": [
       "          City       State  median_age  male_population  female_population  \\\n",
       "0      Abilene       Texas        31.3            65212              60664   \n",
       "1        Akron        Ohio        38.1            96886             100667   \n",
       "2  Albuquerque  New Mexico        36.0           273323             285808   \n",
       "3   Alexandria    Virginia        36.6            74989              78522   \n",
       "4     Amarillo       Texas        33.8            99391             100260   \n",
       "5      Anaheim  California        33.6           179603             171135   \n",
       "6    Anchorage      Alaska        32.2           152945             145750   \n",
       "7    Ann Arbor    Michigan        28.1            58789              58281   \n",
       "8      Antioch  California        34.0            54733              55809   \n",
       "9    Arlington       Texas        32.6           191060             197062   \n",
       "\n",
       "   total_population  mean_household_size state_code  \\\n",
       "0            125876                 2.64         TX   \n",
       "1            197553                 2.24         OH   \n",
       "2            559131                 2.49         NM   \n",
       "3            153511                 2.20         VA   \n",
       "4            199651                 2.64         TX   \n",
       "5            350738                 3.45         CA   \n",
       "6            298695                 2.77         AK   \n",
       "7            117070                 2.17         MI   \n",
       "8            110542                 3.31         CA   \n",
       "9            388122                 2.89         TX   \n",
       "\n",
       "   American Indian and Alaska Native  Asian  Black or African-American  \\\n",
       "0                               1813   2929                      14449   \n",
       "1                               1845   9033                      66551   \n",
       "2                              32243  25140                      26774   \n",
       "3                               1133  13315                      37168   \n",
       "4                               4260   8563                      14050   \n",
       "5                               2489  53270                       9775   \n",
       "6                              36339  36825                      23107   \n",
       "7                               1935  18797                       9577   \n",
       "8                               3462  14333                      23227   \n",
       "9                               2918  31804                      92955   \n",
       "\n",
       "   Hispanic or Latino   White  mean_temperature  city_code  \n",
       "0               33222   95487         17.826222          1  \n",
       "1                3684  129192         10.857634          2  \n",
       "2              271854  411847         12.027353          3  \n",
       "3               25573  106215         13.139941          4  \n",
       "4               65392  174214         16.009490          5  \n",
       "5              201593  259820         16.817961          6  \n",
       "6               27261  212696         -1.054678          7  \n",
       "7                5888   90173          9.851516          8  \n",
       "8               35563   51151         15.108948          9  \n",
       "9              112078  251155         16.057190         10  "
      ]
     },
     "execution_count": 32,
     "metadata": {},
     "output_type": "execute_result"
    }
   ],
   "source": [
    "staging_demo.limit(10).toPandas()"
   ]
  },
  {
   "cell_type": "markdown",
   "metadata": {
    "editable": true
   },
   "source": [
    "## Airport data\n",
    "Finally, we're going to get the airport data. We will only use this to identify the city of arrival for people in the immigration data. As such, we only need US airports.\n"
   ]
  },
  {
   "cell_type": "code",
   "execution_count": 33,
   "metadata": {
    "editable": true
   },
   "outputs": [],
   "source": [
    "airport_file = \"airport-codes_csv.csv\"\n",
    "staging_airport = spark.read.option(\"header\", True).option(\"inferSchema\", True).csv(airport_file)\n",
    "staging_airport = (staging_airport.\n",
    "             filter(\"iso_country == 'US'\").\n",
    "             withColumnRenamed(\"municipality\", \"City\").\n",
    "             select(\"iata_code\", \"Name\", \"City\", \"type\").\n",
    "             dropna(subset = [\"iata_code\"]))\n",
    "staging_airport = staging_airport.join(staging_demo.select(\"City\", \"city_code\"), on = [\"City\"])"
   ]
  },
  {
   "cell_type": "code",
   "execution_count": 34,
   "metadata": {
    "editable": true
   },
   "outputs": [
    {
     "data": {
      "text/html": [
       "<div>\n",
       "<style scoped>\n",
       "    .dataframe tbody tr th:only-of-type {\n",
       "        vertical-align: middle;\n",
       "    }\n",
       "\n",
       "    .dataframe tbody tr th {\n",
       "        vertical-align: top;\n",
       "    }\n",
       "\n",
       "    .dataframe thead th {\n",
       "        text-align: right;\n",
       "    }\n",
       "</style>\n",
       "<table border=\"1\" class=\"dataframe\">\n",
       "  <thead>\n",
       "    <tr style=\"text-align: right;\">\n",
       "      <th></th>\n",
       "      <th>City</th>\n",
       "      <th>iata_code</th>\n",
       "      <th>Name</th>\n",
       "      <th>type</th>\n",
       "      <th>city_code</th>\n",
       "    </tr>\n",
       "  </thead>\n",
       "  <tbody>\n",
       "    <tr>\n",
       "      <th>0</th>\n",
       "      <td>Abilene</td>\n",
       "      <td>DYS</td>\n",
       "      <td>Dyess Air Force Base</td>\n",
       "      <td>large_airport</td>\n",
       "      <td>1</td>\n",
       "    </tr>\n",
       "    <tr>\n",
       "      <th>1</th>\n",
       "      <td>Abilene</td>\n",
       "      <td>ABI</td>\n",
       "      <td>Abilene Regional Airport</td>\n",
       "      <td>medium_airport</td>\n",
       "      <td>1</td>\n",
       "    </tr>\n",
       "    <tr>\n",
       "      <th>2</th>\n",
       "      <td>Akron</td>\n",
       "      <td>CAK</td>\n",
       "      <td>Akron Canton Regional Airport</td>\n",
       "      <td>medium_airport</td>\n",
       "      <td>2</td>\n",
       "    </tr>\n",
       "    <tr>\n",
       "      <th>3</th>\n",
       "      <td>Akron</td>\n",
       "      <td>AKC</td>\n",
       "      <td>Akron Fulton International Airport</td>\n",
       "      <td>medium_airport</td>\n",
       "      <td>2</td>\n",
       "    </tr>\n",
       "    <tr>\n",
       "      <th>4</th>\n",
       "      <td>Akron</td>\n",
       "      <td>AKO</td>\n",
       "      <td>Colorado Plains Regional Airport</td>\n",
       "      <td>small_airport</td>\n",
       "      <td>2</td>\n",
       "    </tr>\n",
       "    <tr>\n",
       "      <th>5</th>\n",
       "      <td>Albuquerque</td>\n",
       "      <td>ABQ</td>\n",
       "      <td>Albuquerque International Sunport</td>\n",
       "      <td>large_airport</td>\n",
       "      <td>3</td>\n",
       "    </tr>\n",
       "    <tr>\n",
       "      <th>6</th>\n",
       "      <td>Alexandria</td>\n",
       "      <td>ESF</td>\n",
       "      <td>Esler Regional Airport</td>\n",
       "      <td>medium_airport</td>\n",
       "      <td>4</td>\n",
       "    </tr>\n",
       "    <tr>\n",
       "      <th>7</th>\n",
       "      <td>Alexandria</td>\n",
       "      <td>AXN</td>\n",
       "      <td>Chandler Field</td>\n",
       "      <td>medium_airport</td>\n",
       "      <td>4</td>\n",
       "    </tr>\n",
       "    <tr>\n",
       "      <th>8</th>\n",
       "      <td>Alexandria</td>\n",
       "      <td>AEX</td>\n",
       "      <td>Alexandria International Airport</td>\n",
       "      <td>medium_airport</td>\n",
       "      <td>4</td>\n",
       "    </tr>\n",
       "    <tr>\n",
       "      <th>9</th>\n",
       "      <td>Amarillo</td>\n",
       "      <td>TDW</td>\n",
       "      <td>Tradewind Airport</td>\n",
       "      <td>small_airport</td>\n",
       "      <td>5</td>\n",
       "    </tr>\n",
       "  </tbody>\n",
       "</table>\n",
       "</div>"
      ],
      "text/plain": [
       "          City iata_code                                Name            type  \\\n",
       "0      Abilene       DYS                Dyess Air Force Base   large_airport   \n",
       "1      Abilene       ABI            Abilene Regional Airport  medium_airport   \n",
       "2        Akron       CAK       Akron Canton Regional Airport  medium_airport   \n",
       "3        Akron       AKC  Akron Fulton International Airport  medium_airport   \n",
       "4        Akron       AKO    Colorado Plains Regional Airport   small_airport   \n",
       "5  Albuquerque       ABQ   Albuquerque International Sunport   large_airport   \n",
       "6   Alexandria       ESF              Esler Regional Airport  medium_airport   \n",
       "7   Alexandria       AXN                      Chandler Field  medium_airport   \n",
       "8   Alexandria       AEX    Alexandria International Airport  medium_airport   \n",
       "9     Amarillo       TDW                   Tradewind Airport   small_airport   \n",
       "\n",
       "   city_code  \n",
       "0          1  \n",
       "1          1  \n",
       "2          2  \n",
       "3          2  \n",
       "4          2  \n",
       "5          3  \n",
       "6          4  \n",
       "7          4  \n",
       "8          4  \n",
       "9          5  "
      ]
     },
     "execution_count": 34,
     "metadata": {},
     "output_type": "execute_result"
    }
   ],
   "source": [
    "staging_airport.limit(10).toPandas()"
   ]
  },
  {
   "cell_type": "markdown",
   "metadata": {
    "editable": true
   },
   "source": [
    "### ETL\n",
    "#### Table schema - snowflake\n",
    "\n",
    " - Fact table - immigration\n",
    "  - immigrant_id [int]\n",
    "  - arrival_city_code [int]\n",
    "  - airport_code [int]\n",
    "  - arrival_date [timestamp]\n",
    "  - departure_date [timestamp]\n",
    "  - source_country [int]\n",
    "  - age [int]\n",
    "  - gender [string]\n",
    "  \n",
    " - Dimension table - city\n",
    "  - city_code [int]\n",
    "  - city_name [string]\n",
    "  - population [int]\n",
    "  - male_population [int]\n",
    "  - female_population [int]\n",
    "  - mean_temperature [float]\n",
    "  - american_indian_alaska [int]\n",
    "  - asian [int]\n",
    "  - black_african_american [int]\n",
    "  - hispanic_latino [int]\n",
    "  - white [int]\n",
    "  \n",
    " - Dimension table - airport\n",
    "  - airport_code [int]\n",
    "  - airport_name [string]\n",
    "  - city_code [int]\n",
    "  - airport_type [string]\n",
    "  \n",
    " - Dimension table - country\n",
    "  - country_code [int]\n",
    "  - country_name [string]\n",
    "  - mean_temperature [float]\n",
    "  \n",
    "In order to add arrival city code we'll need to do a join between the immigration staging table and the airport staging table"
   ]
  },
  {
   "cell_type": "code",
   "execution_count": 35,
   "metadata": {
    "editable": true
   },
   "outputs": [],
   "source": [
    "airport_city_key = staging_airport.select(f.col(\"iata_code\").alias(\"i94port\"), \n",
    "                                     f.col(\"City\").alias(\"arrival_city\"),\n",
    "                                    f.col(\"city_code\"))\n",
    "immigration_table = (staging_immigration.\n",
    "                  join(airport_city_key, on = [\"i94port\"]).\n",
    "                 select(f.col(\"cicid\").alias(\"immigrant_id\"),\n",
    "                       f.col(\"city_code\").alias(\"arrival_city_code\"),\n",
    "                       f.col(\"i94port\").alias(\"airport_code\"),\n",
    "                       f.col(\"arrival_date\"),\n",
    "                       f.col(\"departure_date\"),\n",
    "                       f.col(\"i94res\").alias(\"source_country_code\"),\n",
    "                       f.col(\"i94bir\").alias(\"age\"),\n",
    "                       f.col(\"gender\")))\n",
    "\n",
    "immigration_table.write.mode(\"overwrite\").partitionBy(\"arrival_city_code\", \"airport_code\").parquet(\"tables/immigration\")"
   ]
  },
  {
   "cell_type": "code",
   "execution_count": 36,
   "metadata": {
    "editable": true
   },
   "outputs": [],
   "source": [
    "demo_table = (staging_demo.\n",
    "             select(f.col(\"city_code\"),\n",
    "                    f.col(\"state_code\"),\n",
    "                    f.col(\"City\").alias(\"city_name\"),\n",
    "                    f.col(\"total_population\"),\n",
    "                    f.col(\"male_population\"),\n",
    "                    f.col(\"female_population\"),\n",
    "                    f.col(\"mean_temperature\"),\n",
    "                    f.col(\"American Indian and Alaska Native\").alias(\"american_indian_alaska\"),\n",
    "                    f.col(\"Asian\").alias(\"asian\"),\n",
    "                    f.col(\"Black or African-American\").alias(\"black_african_american\"),\n",
    "                    f.col(\"Hispanic or Latino\").alias(\"hispanic_latino\"),\n",
    "                    f.col(\"White\").alias(\"white\")\n",
    "                   )\n",
    "             )\n",
    "demo_table.write.mode(\"overwrite\").parquet(\"tables/city\")"
   ]
  },
  {
   "cell_type": "code",
   "execution_count": 37,
   "metadata": {
    "editable": true
   },
   "outputs": [],
   "source": [
    "airport_table = staging_airport.select(f.col(\"iata_code\").alias(\"airport_code\"),\n",
    "                 f.col(\"Name\").alias(\"airport_name\"),\n",
    "                 f.col(\"city_code\"),\n",
    "                 f.col(\"type\").alias(\"airport_type\"))\n",
    "\n",
    "airport_table.write.mode(\"overwrite\").parquet(\"tables/airport\")"
   ]
  },
  {
   "cell_type": "code",
   "execution_count": 47,
   "metadata": {
    "editable": true
   },
   "outputs": [],
   "source": [
    "country_table = spark.createDataFrame(country_codes.reset_index())\n",
    "\n",
    "country_table = (country_table.\n",
    "                 join(country_temp.\n",
    "                      select(f.col(\"Country\").alias(\"key\"), \n",
    "                             \"mean_temperature\"),\n",
    "                      on = [\"key\"]).\n",
    "                 select(f.col(\"code\").alias(\"country_code\"),\n",
    "                       f.col(\"key\").alias(\"country_name\"),\n",
    "                       \"mean_temperature\")\n",
    "                )\n",
    "country_table.write.mode(\"overwrite\").parquet(\"tables/country\")"
   ]
  },
  {
   "cell_type": "markdown",
   "metadata": {
    "editable": true
   },
   "source": [
    "## Data Quality Checks"
   ]
  },
  {
   "cell_type": "code",
   "execution_count": 39,
   "metadata": {
    "editable": true
   },
   "outputs": [],
   "source": [
    "immigration_table.createOrReplaceTempView(\"immigration\")\n",
    "airport_table.createOrReplaceTempView(\"airport\")"
   ]
  },
  {
   "cell_type": "code",
   "execution_count": 40,
   "metadata": {
    "editable": true
   },
   "outputs": [
    {
     "data": {
      "text/html": [
       "<div>\n",
       "<style scoped>\n",
       "    .dataframe tbody tr th:only-of-type {\n",
       "        vertical-align: middle;\n",
       "    }\n",
       "\n",
       "    .dataframe tbody tr th {\n",
       "        vertical-align: top;\n",
       "    }\n",
       "\n",
       "    .dataframe thead th {\n",
       "        text-align: right;\n",
       "    }\n",
       "</style>\n",
       "<table border=\"1\" class=\"dataframe\">\n",
       "  <thead>\n",
       "    <tr style=\"text-align: right;\">\n",
       "      <th></th>\n",
       "      <th>immigrant_id</th>\n",
       "      <th>arrival_city_code</th>\n",
       "      <th>airport_code</th>\n",
       "      <th>arrival_date</th>\n",
       "      <th>departure_date</th>\n",
       "      <th>source_country_code</th>\n",
       "      <th>age</th>\n",
       "      <th>gender</th>\n",
       "    </tr>\n",
       "  </thead>\n",
       "  <tbody>\n",
       "    <tr>\n",
       "      <th>0</th>\n",
       "      <td>9732.0</td>\n",
       "      <td>211</td>\n",
       "      <td>SNA</td>\n",
       "      <td>2016-04-01</td>\n",
       "      <td>2016-04-03</td>\n",
       "      <td>111.0</td>\n",
       "      <td>30.0</td>\n",
       "      <td>M</td>\n",
       "    </tr>\n",
       "    <tr>\n",
       "      <th>1</th>\n",
       "      <td>12310.0</td>\n",
       "      <td>211</td>\n",
       "      <td>SNA</td>\n",
       "      <td>2016-04-01</td>\n",
       "      <td>2016-04-18</td>\n",
       "      <td>114.0</td>\n",
       "      <td>37.0</td>\n",
       "      <td>F</td>\n",
       "    </tr>\n",
       "    <tr>\n",
       "      <th>2</th>\n",
       "      <td>16573.0</td>\n",
       "      <td>211</td>\n",
       "      <td>SNA</td>\n",
       "      <td>2016-04-01</td>\n",
       "      <td>2016-04-15</td>\n",
       "      <td>582.0</td>\n",
       "      <td>51.0</td>\n",
       "      <td>M</td>\n",
       "    </tr>\n",
       "    <tr>\n",
       "      <th>3</th>\n",
       "      <td>22742.0</td>\n",
       "      <td>211</td>\n",
       "      <td>SNA</td>\n",
       "      <td>2016-04-01</td>\n",
       "      <td>2016-04-04</td>\n",
       "      <td>129.0</td>\n",
       "      <td>48.0</td>\n",
       "      <td>M</td>\n",
       "    </tr>\n",
       "    <tr>\n",
       "      <th>4</th>\n",
       "      <td>139792.0</td>\n",
       "      <td>211</td>\n",
       "      <td>SNA</td>\n",
       "      <td>2016-04-01</td>\n",
       "      <td>2016-04-03</td>\n",
       "      <td>575.0</td>\n",
       "      <td>41.0</td>\n",
       "      <td>M</td>\n",
       "    </tr>\n",
       "    <tr>\n",
       "      <th>5</th>\n",
       "      <td>140354.0</td>\n",
       "      <td>211</td>\n",
       "      <td>SNA</td>\n",
       "      <td>2016-04-01</td>\n",
       "      <td>2016-04-03</td>\n",
       "      <td>575.0</td>\n",
       "      <td>31.0</td>\n",
       "      <td>F</td>\n",
       "    </tr>\n",
       "    <tr>\n",
       "      <th>6</th>\n",
       "      <td>141463.0</td>\n",
       "      <td>211</td>\n",
       "      <td>SNA</td>\n",
       "      <td>2016-04-01</td>\n",
       "      <td>2016-04-06</td>\n",
       "      <td>577.0</td>\n",
       "      <td>36.0</td>\n",
       "      <td>M</td>\n",
       "    </tr>\n",
       "    <tr>\n",
       "      <th>7</th>\n",
       "      <td>141464.0</td>\n",
       "      <td>211</td>\n",
       "      <td>SNA</td>\n",
       "      <td>2016-04-01</td>\n",
       "      <td>2016-04-16</td>\n",
       "      <td>577.0</td>\n",
       "      <td>51.0</td>\n",
       "      <td>M</td>\n",
       "    </tr>\n",
       "    <tr>\n",
       "      <th>8</th>\n",
       "      <td>141795.0</td>\n",
       "      <td>211</td>\n",
       "      <td>SNA</td>\n",
       "      <td>2016-04-01</td>\n",
       "      <td>2016-04-16</td>\n",
       "      <td>582.0</td>\n",
       "      <td>36.0</td>\n",
       "      <td>F</td>\n",
       "    </tr>\n",
       "    <tr>\n",
       "      <th>9</th>\n",
       "      <td>142454.0</td>\n",
       "      <td>211</td>\n",
       "      <td>SNA</td>\n",
       "      <td>2016-04-01</td>\n",
       "      <td>2016-04-11</td>\n",
       "      <td>582.0</td>\n",
       "      <td>42.0</td>\n",
       "      <td>M</td>\n",
       "    </tr>\n",
       "  </tbody>\n",
       "</table>\n",
       "</div>"
      ],
      "text/plain": [
       "   immigrant_id  arrival_city_code airport_code arrival_date departure_date  \\\n",
       "0        9732.0                211          SNA   2016-04-01     2016-04-03   \n",
       "1       12310.0                211          SNA   2016-04-01     2016-04-18   \n",
       "2       16573.0                211          SNA   2016-04-01     2016-04-15   \n",
       "3       22742.0                211          SNA   2016-04-01     2016-04-04   \n",
       "4      139792.0                211          SNA   2016-04-01     2016-04-03   \n",
       "5      140354.0                211          SNA   2016-04-01     2016-04-03   \n",
       "6      141463.0                211          SNA   2016-04-01     2016-04-06   \n",
       "7      141464.0                211          SNA   2016-04-01     2016-04-16   \n",
       "8      141795.0                211          SNA   2016-04-01     2016-04-16   \n",
       "9      142454.0                211          SNA   2016-04-01     2016-04-11   \n",
       "\n",
       "   source_country_code   age gender  \n",
       "0                111.0  30.0      M  \n",
       "1                114.0  37.0      F  \n",
       "2                582.0  51.0      M  \n",
       "3                129.0  48.0      M  \n",
       "4                575.0  41.0      M  \n",
       "5                575.0  31.0      F  \n",
       "6                577.0  36.0      M  \n",
       "7                577.0  51.0      M  \n",
       "8                582.0  36.0      F  \n",
       "9                582.0  42.0      M  "
      ]
     },
     "execution_count": 40,
     "metadata": {},
     "output_type": "execute_result"
    }
   ],
   "source": [
    "# Check the data looks as it should\n",
    "spark.sql(\"\"\"\n",
    "SELECT *\n",
    "FROM immigration\n",
    "LIMIT 10\n",
    "\"\"\"\n",
    ").toPandas()"
   ]
  },
  {
   "cell_type": "code",
   "execution_count": 41,
   "metadata": {
    "editable": true
   },
   "outputs": [
    {
     "data": {
      "text/html": [
       "<div>\n",
       "<style scoped>\n",
       "    .dataframe tbody tr th:only-of-type {\n",
       "        vertical-align: middle;\n",
       "    }\n",
       "\n",
       "    .dataframe tbody tr th {\n",
       "        vertical-align: top;\n",
       "    }\n",
       "\n",
       "    .dataframe thead th {\n",
       "        text-align: right;\n",
       "    }\n",
       "</style>\n",
       "<table border=\"1\" class=\"dataframe\">\n",
       "  <thead>\n",
       "    <tr style=\"text-align: right;\">\n",
       "      <th></th>\n",
       "      <th>immigrant_id</th>\n",
       "      <th>arrival_city_code</th>\n",
       "      <th>airport_code</th>\n",
       "      <th>arrival_date</th>\n",
       "      <th>departure_date</th>\n",
       "      <th>source_country_code</th>\n",
       "      <th>age</th>\n",
       "      <th>gender</th>\n",
       "    </tr>\n",
       "  </thead>\n",
       "  <tbody>\n",
       "  </tbody>\n",
       "</table>\n",
       "</div>"
      ],
      "text/plain": [
       "Empty DataFrame\n",
       "Columns: [immigrant_id, arrival_city_code, airport_code, arrival_date, departure_date, source_country_code, age, gender]\n",
       "Index: []"
      ]
     },
     "execution_count": 41,
     "metadata": {},
     "output_type": "execute_result"
    }
   ],
   "source": [
    "# Check no cases where arrival is after departure\n",
    "spark.sql(\"\"\"\n",
    "SELECT *\n",
    "FROM immigration\n",
    "WHERE arrival_date > departure_date\n",
    "\"\"\"\n",
    ").toPandas()"
   ]
  },
  {
   "cell_type": "code",
   "execution_count": 45,
   "metadata": {
    "editable": true
   },
   "outputs": [
    {
     "data": {
      "text/html": [
       "<div>\n",
       "<style scoped>\n",
       "    .dataframe tbody tr th:only-of-type {\n",
       "        vertical-align: middle;\n",
       "    }\n",
       "\n",
       "    .dataframe tbody tr th {\n",
       "        vertical-align: top;\n",
       "    }\n",
       "\n",
       "    .dataframe thead th {\n",
       "        text-align: right;\n",
       "    }\n",
       "</style>\n",
       "<table border=\"1\" class=\"dataframe\">\n",
       "  <thead>\n",
       "    <tr style=\"text-align: right;\">\n",
       "      <th></th>\n",
       "      <th>airport_name</th>\n",
       "      <th>COUNT</th>\n",
       "    </tr>\n",
       "  </thead>\n",
       "  <tbody>\n",
       "    <tr>\n",
       "      <th>0</th>\n",
       "      <td>Miami International Airport</td>\n",
       "      <td>328470</td>\n",
       "    </tr>\n",
       "    <tr>\n",
       "      <th>1</th>\n",
       "      <td>San Fernando Airport</td>\n",
       "      <td>145994</td>\n",
       "    </tr>\n",
       "    <tr>\n",
       "      <th>2</th>\n",
       "      <td>Orlando Executive Airport</td>\n",
       "      <td>142804</td>\n",
       "    </tr>\n",
       "    <tr>\n",
       "      <th>3</th>\n",
       "      <td>Lakefront Airport</td>\n",
       "      <td>131177</td>\n",
       "    </tr>\n",
       "    <tr>\n",
       "      <th>4</th>\n",
       "      <td>William P Hobby Airport</td>\n",
       "      <td>95188</td>\n",
       "    </tr>\n",
       "    <tr>\n",
       "      <th>5</th>\n",
       "      <td>Hartsfield Jackson Atlanta International Airport</td>\n",
       "      <td>88566</td>\n",
       "    </tr>\n",
       "    <tr>\n",
       "      <th>6</th>\n",
       "      <td>Dallas Love Field</td>\n",
       "      <td>67819</td>\n",
       "    </tr>\n",
       "    <tr>\n",
       "      <th>7</th>\n",
       "      <td>General Edward Lawrence Logan International Ai...</td>\n",
       "      <td>53976</td>\n",
       "    </tr>\n",
       "    <tr>\n",
       "      <th>8</th>\n",
       "      <td>Seattle Tacoma International Airport</td>\n",
       "      <td>44585</td>\n",
       "    </tr>\n",
       "    <tr>\n",
       "      <th>9</th>\n",
       "      <td>Coleman A. Young Municipal Airport</td>\n",
       "      <td>32966</td>\n",
       "    </tr>\n",
       "  </tbody>\n",
       "</table>\n",
       "</div>"
      ],
      "text/plain": [
       "                                        airport_name   COUNT\n",
       "0                        Miami International Airport  328470\n",
       "1                               San Fernando Airport  145994\n",
       "2                          Orlando Executive Airport  142804\n",
       "3                                  Lakefront Airport  131177\n",
       "4                            William P Hobby Airport   95188\n",
       "5   Hartsfield Jackson Atlanta International Airport   88566\n",
       "6                                  Dallas Love Field   67819\n",
       "7  General Edward Lawrence Logan International Ai...   53976\n",
       "8               Seattle Tacoma International Airport   44585\n",
       "9                 Coleman A. Young Municipal Airport   32966"
      ]
     },
     "execution_count": 45,
     "metadata": {},
     "output_type": "execute_result"
    }
   ],
   "source": [
    "# Check the joins can be performed\n",
    "spark.sql(\"\"\"\n",
    "SELECT airport.airport_name, COUNT(1) AS COUNT\n",
    "FROM immigration\n",
    "LEFT JOIN airport\n",
    "ON immigration.airport_code = airport.airport_code\n",
    "GROUP BY airport.airport_name\n",
    "ORDER BY COUNT DESC\n",
    "LIMIT 10\n",
    "\"\"\"\n",
    ").toPandas()"
   ]
  },
  {
   "cell_type": "markdown",
   "metadata": {
    "editable": true
   },
   "source": [
    "#### 4.3 Data dictionary \n",
    "The data dictionary is available in `data_dictionary.md`"
   ]
  },
  {
   "cell_type": "markdown",
   "metadata": {
    "editable": true
   },
   "source": [
    "#### Step 5: Complete Project Write Up\n",
    "* Clearly state the rationale for the choice of tools and technologies for the project.\n",
    "* Propose how often the data should be updated and why.\n",
    "* Write a description of how you would approach the problem differently under the following scenarios:\n",
    " * The data was increased by 100x.\n",
    " * The data populates a dashboard that must be updated on a daily basis by 7am every day.\n",
    " * The database needed to be accessed by 100+ people."
   ]
  },
  {
   "cell_type": "markdown",
   "metadata": {
    "editable": true
   },
   "source": [
    "PySpark was chosen as it is designed for handling large amounts of data quickly.\n",
    "The flexibility of using pandas/Python syntax or SQL syntax helps facilitate analysis by end users.\n",
    "PySpark also integrates well with cloud data services. \n",
    "\n",
    "### If the data were increased 100x\n",
    "It would be sensible to move the data storage and preparation to a cloud service such as an EC2 cluster running Redshift. This would allow to parallelise the Spark processes and quickly process and filter the data.\n",
    "\n",
    "### The data populates a dashboard that must be updated on a daily basis by 7am every day.\n",
    "An Apache Airflow pipeline could be set up with operators for reading and preparing the data\n",
    "The data pipeline could integrate dependencies to ensure the data are correctly loaded\n",
    "\n",
    "`load_data` >>`process_data` >> `store_data` >> `quality_checks` >> `push_to_dashboard`\n",
    "\n",
    "As speed would be of importance for any dashboard, it may worthwhile considering storing the data in an Apache Cassandra database which may be less efficient in storage as data are duplicated across nodes to ensure availability\n",
    "\n",
    "### The database needed to be accessed by 100+ people.\n",
    "A cloud server would be the only option, with an EC2 cluster running Redshift which is able to scale to accommodate the demands."
   ]
  },
  {
   "cell_type": "code",
   "execution_count": null,
   "metadata": {
    "editable": true
   },
   "outputs": [],
   "source": []
  }
 ],
 "metadata": {
  "kernelspec": {
   "display_name": "Python 3",
   "language": "python",
   "name": "python3"
  },
  "language_info": {
   "codemirror_mode": {
    "name": "ipython",
    "version": 3
   },
   "file_extension": ".py",
   "mimetype": "text/x-python",
   "name": "python",
   "nbconvert_exporter": "python",
   "pygments_lexer": "ipython3",
   "version": "3.6.3"
  }
 },
 "nbformat": 4,
 "nbformat_minor": 4
}
