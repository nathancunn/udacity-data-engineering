{
 "cells": [
  {
   "cell_type": "code",
   "execution_count": 1,
   "metadata": {
    "editable": true
   },
   "outputs": [],
   "source": [
    "import pandas as pd\n",
    "\n",
    "import pyspark.sql.functions as f\n",
    "from pyspark.sql import SparkSession"
   ]
  },
  {
   "cell_type": "code",
   "execution_count": 2,
   "metadata": {
    "editable": true
   },
   "outputs": [],
   "source": [
    "spark = SparkSession.builder.\\\n",
    "        config(\"spark.jars.repositories\", \"https://repos.spark-packages.org/\").\\\n",
    "        enableHiveSupport().getOrCreate()"
   ]
  },
  {
   "cell_type": "code",
   "execution_count": 12,
   "metadata": {
    "editable": true
   },
   "outputs": [],
   "source": [
    "immigration = spark.read.parquet(\"tables/immigration\")\n",
    "country = spark.read.parquet(\"tables/country\")\n",
    "airport = spark.read.parquet(\"tables/airport\")\n",
    "city = spark.read.parquet(\"tables/city\")"
   ]
  },
  {
   "cell_type": "markdown",
   "metadata": {
    "editable": true
   },
   "source": [
    "### 1. Finding your fellow country people\n",
    "What may be of interest to emigrants is to move to a city which others from your country are moving. To do this, find the top 10 cities with the greatest number of people from your country emigrating to."
   ]
  },
  {
   "cell_type": "code",
   "execution_count": 33,
   "metadata": {
    "editable": true
   },
   "outputs": [
    {
     "name": "stdout",
     "output_type": "stream",
     "text": [
      "+----------+-----------+-----+\n",
      "|state_code|  city_name|count|\n",
      "+----------+-----------+-----+\n",
      "|        CA|Los Angeles|  932|\n",
      "|        FL|    Orlando|  877|\n",
      "|        FL|      Miami|  621|\n",
      "|        WA|    Seattle|  440|\n",
      "|        LA|New Orleans|  408|\n",
      "|        TX|     Dallas|  333|\n",
      "|        MA|     Boston|  262|\n",
      "|        GA|    Atlanta|  242|\n",
      "|        TX|    Houston|  220|\n",
      "|        TX|     Austin|  115|\n",
      "+----------+-----------+-----+\n",
      "\n"
     ]
    }
   ],
   "source": [
    "(country.\n",
    " filter(\"country_name == 'Ireland'\").\n",
    " join(immigration, \n",
    "      country.country_code == immigration.source_country_code, \n",
    "      how = \"left\").\n",
    " join(city,\n",
    "     immigration.arrival_city_code == city.city_code).\n",
    " groupBy(\"state_code\", \"city_name\").\n",
    " count().\n",
    " orderBy(f.col(\"count\").desc())\n",
    ").limit(10).show()"
   ]
  },
  {
   "cell_type": "markdown",
   "metadata": {
    "editable": true
   },
   "source": [
    "### 2. Finding cities with a tolerable climate\n",
    "You may want to discover cities whose climate is more similar to what you are used to.\n",
    "In this situation, you many want to uncover popular destinations (>100 emigrants from your home country) which have the most similar mean temperature to your own country."
   ]
  },
  {
   "cell_type": "code",
   "execution_count": 49,
   "metadata": {
    "editable": true
   },
   "outputs": [
    {
     "data": {
      "text/html": [
       "<div>\n",
       "<style scoped>\n",
       "    .dataframe tbody tr th:only-of-type {\n",
       "        vertical-align: middle;\n",
       "    }\n",
       "\n",
       "    .dataframe tbody tr th {\n",
       "        vertical-align: top;\n",
       "    }\n",
       "\n",
       "    .dataframe thead th {\n",
       "        text-align: right;\n",
       "    }\n",
       "</style>\n",
       "<table border=\"1\" class=\"dataframe\">\n",
       "  <thead>\n",
       "    <tr style=\"text-align: right;\">\n",
       "      <th></th>\n",
       "      <th>city_name</th>\n",
       "      <th>count</th>\n",
       "      <th>temperature_difference</th>\n",
       "    </tr>\n",
       "  </thead>\n",
       "  <tbody>\n",
       "    <tr>\n",
       "      <th>0</th>\n",
       "      <td>Denver</td>\n",
       "      <td>114</td>\n",
       "      <td>0.198618</td>\n",
       "    </tr>\n",
       "    <tr>\n",
       "      <th>1</th>\n",
       "      <td>Boston</td>\n",
       "      <td>262</td>\n",
       "      <td>1.122063</td>\n",
       "    </tr>\n",
       "    <tr>\n",
       "      <th>2</th>\n",
       "      <td>Seattle</td>\n",
       "      <td>440</td>\n",
       "      <td>1.734180</td>\n",
       "    </tr>\n",
       "    <tr>\n",
       "      <th>3</th>\n",
       "      <td>Atlanta</td>\n",
       "      <td>242</td>\n",
       "      <td>5.363774</td>\n",
       "    </tr>\n",
       "    <tr>\n",
       "      <th>4</th>\n",
       "      <td>Los Angeles</td>\n",
       "      <td>932</td>\n",
       "      <td>6.637486</td>\n",
       "    </tr>\n",
       "    <tr>\n",
       "      <th>5</th>\n",
       "      <td>Dallas</td>\n",
       "      <td>333</td>\n",
       "      <td>8.962349</td>\n",
       "    </tr>\n",
       "    <tr>\n",
       "      <th>6</th>\n",
       "      <td>Austin</td>\n",
       "      <td>115</td>\n",
       "      <td>10.837133</td>\n",
       "    </tr>\n",
       "    <tr>\n",
       "      <th>7</th>\n",
       "      <td>Houston</td>\n",
       "      <td>220</td>\n",
       "      <td>11.099774</td>\n",
       "    </tr>\n",
       "    <tr>\n",
       "      <th>8</th>\n",
       "      <td>New Orleans</td>\n",
       "      <td>408</td>\n",
       "      <td>11.119062</td>\n",
       "    </tr>\n",
       "    <tr>\n",
       "      <th>9</th>\n",
       "      <td>Orlando</td>\n",
       "      <td>877</td>\n",
       "      <td>13.087362</td>\n",
       "    </tr>\n",
       "  </tbody>\n",
       "</table>\n",
       "</div>"
      ],
      "text/plain": [
       "     city_name  count  temperature_difference\n",
       "0       Denver    114                0.198618\n",
       "1       Boston    262                1.122063\n",
       "2      Seattle    440                1.734180\n",
       "3      Atlanta    242                5.363774\n",
       "4  Los Angeles    932                6.637486\n",
       "5       Dallas    333                8.962349\n",
       "6       Austin    115               10.837133\n",
       "7      Houston    220               11.099774\n",
       "8  New Orleans    408               11.119062\n",
       "9      Orlando    877               13.087362"
      ]
     },
     "execution_count": 49,
     "metadata": {},
     "output_type": "execute_result"
    }
   ],
   "source": [
    "(country.\n",
    " filter(\"country_name == 'Ireland'\").\n",
    " join(immigration.select(\"source_country_code\", \"arrival_city_code\"), \n",
    "      country.country_code == immigration.source_country_code, \n",
    "      how = \"left\").\n",
    " join(city,\n",
    "     immigration.arrival_city_code == city.city_code).\n",
    " withColumn(\"temperature_difference\", f.abs(country.mean_temperature - city.mean_temperature)).\n",
    " groupBy(\"city_name\").\n",
    " agg(f.count(\"city_name\").alias(\"count\"), f.mean(\"temperature_difference\").alias(\"temperature_difference\")).\n",
    " filter(\"count >= 100\").\n",
    " orderBy(\"temperature_difference\")\n",
    ").limit(10).toPandas()"
   ]
  },
  {
   "cell_type": "markdown",
   "metadata": {
    "editable": true
   },
   "source": [
    "### 3. Find cities with the correct gender balance\n",
    "As a solo traveller, women may be concerned with the safety of a candidate destination. Cities which have a large female population currently, or have a large influx of female immigrants may be desirable destinations.\n",
    "We might consider cities with at least 50% female population, ordered by how popular they currently are female immigrants. "
   ]
  },
  {
   "cell_type": "code",
   "execution_count": 94,
   "metadata": {
    "editable": true
   },
   "outputs": [
    {
     "data": {
      "text/html": [
       "<div>\n",
       "<style scoped>\n",
       "    .dataframe tbody tr th:only-of-type {\n",
       "        vertical-align: middle;\n",
       "    }\n",
       "\n",
       "    .dataframe tbody tr th {\n",
       "        vertical-align: top;\n",
       "    }\n",
       "\n",
       "    .dataframe thead th {\n",
       "        text-align: right;\n",
       "    }\n",
       "</style>\n",
       "<table border=\"1\" class=\"dataframe\">\n",
       "  <thead>\n",
       "    <tr style=\"text-align: right;\">\n",
       "      <th></th>\n",
       "      <th>city_name</th>\n",
       "      <th>state_code</th>\n",
       "      <th>female_proportion</th>\n",
       "      <th>female_immigrant_proportion</th>\n",
       "    </tr>\n",
       "  </thead>\n",
       "  <tbody>\n",
       "    <tr>\n",
       "      <th>0</th>\n",
       "      <td>Newport News</td>\n",
       "      <td>VA</td>\n",
       "      <td>0.515393</td>\n",
       "      <td>1.000000</td>\n",
       "    </tr>\n",
       "    <tr>\n",
       "      <th>1</th>\n",
       "      <td>Albuquerque</td>\n",
       "      <td>NM</td>\n",
       "      <td>0.511165</td>\n",
       "      <td>1.000000</td>\n",
       "    </tr>\n",
       "    <tr>\n",
       "      <th>2</th>\n",
       "      <td>Ontario</td>\n",
       "      <td>CA</td>\n",
       "      <td>0.503160</td>\n",
       "      <td>0.636632</td>\n",
       "    </tr>\n",
       "    <tr>\n",
       "      <th>3</th>\n",
       "      <td>Sacramento</td>\n",
       "      <td>CA</td>\n",
       "      <td>0.515556</td>\n",
       "      <td>0.628319</td>\n",
       "    </tr>\n",
       "    <tr>\n",
       "      <th>4</th>\n",
       "      <td>Providence</td>\n",
       "      <td>RI</td>\n",
       "      <td>0.502857</td>\n",
       "      <td>0.583333</td>\n",
       "    </tr>\n",
       "    <tr>\n",
       "      <th>5</th>\n",
       "      <td>Syracuse</td>\n",
       "      <td>NY</td>\n",
       "      <td>0.518134</td>\n",
       "      <td>0.500000</td>\n",
       "    </tr>\n",
       "    <tr>\n",
       "      <th>6</th>\n",
       "      <td>Oakland</td>\n",
       "      <td>CA</td>\n",
       "      <td>0.513862</td>\n",
       "      <td>0.498012</td>\n",
       "    </tr>\n",
       "    <tr>\n",
       "      <th>7</th>\n",
       "      <td>Santa Ana</td>\n",
       "      <td>CA</td>\n",
       "      <td>0.500622</td>\n",
       "      <td>0.488590</td>\n",
       "    </tr>\n",
       "    <tr>\n",
       "      <th>8</th>\n",
       "      <td>New Orleans</td>\n",
       "      <td>LA</td>\n",
       "      <td>0.523286</td>\n",
       "      <td>0.467651</td>\n",
       "    </tr>\n",
       "    <tr>\n",
       "      <th>9</th>\n",
       "      <td>Pittsburgh</td>\n",
       "      <td>PA</td>\n",
       "      <td>0.508221</td>\n",
       "      <td>0.456522</td>\n",
       "    </tr>\n",
       "  </tbody>\n",
       "</table>\n",
       "</div>"
      ],
      "text/plain": [
       "      city_name state_code  female_proportion  female_immigrant_proportion\n",
       "0  Newport News         VA           0.515393                     1.000000\n",
       "1   Albuquerque         NM           0.511165                     1.000000\n",
       "2       Ontario         CA           0.503160                     0.636632\n",
       "3    Sacramento         CA           0.515556                     0.628319\n",
       "4    Providence         RI           0.502857                     0.583333\n",
       "5      Syracuse         NY           0.518134                     0.500000\n",
       "6       Oakland         CA           0.513862                     0.498012\n",
       "7     Santa Ana         CA           0.500622                     0.488590\n",
       "8   New Orleans         LA           0.523286                     0.467651\n",
       "9    Pittsburgh         PA           0.508221                     0.456522"
      ]
     },
     "execution_count": 94,
     "metadata": {},
     "output_type": "execute_result"
    }
   ],
   "source": [
    "female_immigrant_proportion = (\n",
    "    immigration.\n",
    "    groupBy(\"arrival_city_code\", \"gender\").\n",
    "    count().\n",
    "    withColumn(\"total_immigrants\", f.sum(\"count\").over(Window.partitionBy(\"arrival_city_code\"))).\n",
    "    withColumn(\"female_immigrant_proportion\", f.col(\"count\") / f.col(\"total_immigrants\")).\n",
    "    filter(\"gender == 'F'\").\n",
    "    select(\"arrival_city_code\", \"female_immigrant_proportion\")\n",
    ")\n",
    "\n",
    "(city.\n",
    " withColumn(\"female_proportion\", city.female_population / (city.total_population)).\n",
    " filter('female_proportion >= 0.5').\n",
    " join(female_immigrant_proportion, \n",
    "      female_immigrant_proportion.arrival_city_code == city.city_code).\n",
    " orderBy(f.col(\"female_immigrant_proportion\").desc()).\n",
    " select(\"city_name\", \"state_code\", \"female_proportion\", \"female_immigrant_proportion\")\n",
    ").limit(10).toPandas()"
   ]
  }
 ],
 "metadata": {
  "kernelspec": {
   "display_name": "Python 3",
   "language": "python",
   "name": "python3"
  },
  "language_info": {
   "codemirror_mode": {
    "name": "ipython",
    "version": 3
   },
   "file_extension": ".py",
   "mimetype": "text/x-python",
   "name": "python",
   "nbconvert_exporter": "python",
   "pygments_lexer": "ipython3",
   "version": "3.6.3"
  }
 },
 "nbformat": 4,
 "nbformat_minor": 4
}
